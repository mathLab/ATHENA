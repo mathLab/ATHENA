{
 "cells": [
  {
   "cell_type": "code",
   "execution_count": 1,
   "metadata": {},
   "outputs": [
    {
     "ename": "ImportError",
     "evalue": "generic_type: type \"CSGGeometry\" referenced unknown base type \"dolfin::Variable\"",
     "output_type": "error",
     "traceback": [
      "\u001b[0;31m---------------------------------------------------------------------------\u001b[0m",
      "\u001b[0;31mImportError\u001b[0m                               Traceback (most recent call last)",
      "\u001b[0;32m<ipython-input-1-25697bfed07c>\u001b[0m in \u001b[0;36m<module>\u001b[0;34m\u001b[0m\n\u001b[1;32m      1\u001b[0m \u001b[0;32mfrom\u001b[0m \u001b[0mdolfin\u001b[0m \u001b[0;32mimport\u001b[0m \u001b[0;34m*\u001b[0m\u001b[0;34m\u001b[0m\u001b[0;34m\u001b[0m\u001b[0m\n\u001b[0;32m----> 2\u001b[0;31m \u001b[0;32mfrom\u001b[0m \u001b[0mmshr\u001b[0m \u001b[0;32mimport\u001b[0m \u001b[0;34m*\u001b[0m\u001b[0;34m\u001b[0m\u001b[0;34m\u001b[0m\u001b[0m\n\u001b[0m\u001b[1;32m      3\u001b[0m \u001b[0;32mimport\u001b[0m \u001b[0mnumpy\u001b[0m \u001b[0;32mas\u001b[0m \u001b[0mnp\u001b[0m\u001b[0;34m\u001b[0m\u001b[0;34m\u001b[0m\u001b[0m\n\u001b[1;32m      4\u001b[0m \u001b[0;32mimport\u001b[0m \u001b[0mmatplotlib\u001b[0m\u001b[0;34m.\u001b[0m\u001b[0mpyplot\u001b[0m \u001b[0;32mas\u001b[0m \u001b[0mplt\u001b[0m\u001b[0;34m\u001b[0m\u001b[0;34m\u001b[0m\u001b[0m\n\u001b[1;32m      5\u001b[0m \u001b[0;32mfrom\u001b[0m \u001b[0mpathlib\u001b[0m \u001b[0;32mimport\u001b[0m \u001b[0mPath\u001b[0m\u001b[0;34m\u001b[0m\u001b[0;34m\u001b[0m\u001b[0m\n",
      "\u001b[0;32m~/anaconda3/envs/athena/lib/python3.8/site-packages/mshr/__init__.py\u001b[0m in \u001b[0;36m<module>\u001b[0;34m\u001b[0m\n\u001b[1;32m     22\u001b[0m \u001b[0;32mimport\u001b[0m \u001b[0mdolfin\u001b[0m\u001b[0;34m\u001b[0m\u001b[0;34m\u001b[0m\u001b[0m\n\u001b[1;32m     23\u001b[0m \u001b[0;34m\u001b[0m\u001b[0m\n\u001b[0;32m---> 24\u001b[0;31m \u001b[0;32mfrom\u001b[0m \u001b[0;34m.\u001b[0m\u001b[0mcpp\u001b[0m \u001b[0;32mimport\u001b[0m \u001b[0mCircle\u001b[0m\u001b[0;34m\u001b[0m\u001b[0;34m\u001b[0m\u001b[0m\n\u001b[0m\u001b[1;32m     25\u001b[0m \u001b[0;32mfrom\u001b[0m \u001b[0;34m.\u001b[0m\u001b[0mcpp\u001b[0m \u001b[0;32mimport\u001b[0m \u001b[0mEllipse\u001b[0m\u001b[0;34m\u001b[0m\u001b[0;34m\u001b[0m\u001b[0m\n\u001b[1;32m     26\u001b[0m \u001b[0;32mfrom\u001b[0m \u001b[0;34m.\u001b[0m\u001b[0mcpp\u001b[0m \u001b[0;32mimport\u001b[0m \u001b[0mRectangle\u001b[0m\u001b[0;34m\u001b[0m\u001b[0;34m\u001b[0m\u001b[0m\n",
      "\u001b[0;31mImportError\u001b[0m: generic_type: type \"CSGGeometry\" referenced unknown base type \"dolfin::Variable\""
     ]
    }
   ],
   "source": [
    "from dolfin import *\n",
    "#from mshr import *\n",
    "import numpy as np\n",
    "import matplotlib.pyplot as plt\n",
    "from pathlib import Path\n",
    "import sys\n",
    "import os\n",
    "plt.rcParams.update({'font.size': 18})\n",
    "\n",
    "# Create mesh\n",
    "mesh = Mesh(\"data/mesh.xml\")\n",
    "c = MeshFunction(\"double\", mesh, 2)\n",
    "kar = MeshFunction(\"double\", mesh, 2)\n",
    "\n",
    "modes= np.load(\"05_SPDE/modes_AS.npy\")\n",
    "E = np.load(\"05_SPDE/cov_modes.npy\")\n",
    "sample = modes.T.dot(E)\n",
    "\n",
    "print(modes.shape)\n",
    "print(E.shape)\n",
    "print(sample.shape)\n",
    "sample_k = E[:5, :]\n",
    "\n",
    "# Iterate over mesh and set values\n",
    "for j in range(5):\n",
    "    for i, cell in enumerate(cells(mesh)):\n",
    "        c[cell] = sample[j, i]\n",
    "        kar[cell] = sample_k[j, i]\n",
    "\n",
    "    plt.figure(figsize=(5, 4))\n",
    "    pl = plot(kar)\n",
    "    v1 = np.linspace(kar.array().min(), kar.array().max(), 5)\n",
    "    cb = plt.colorbar(pl,fraction=0.046, pad=0.04, ticks=v1)\n",
    "    cb.ax.tick_params(labelsize='large')\n",
    "    cb.ax.set_yticklabels([\"{:2.1f}\".format(i) for i in v1])\n",
    "    plt.tight_layout()\n",
    "    plt.xticks([0, 1])\n",
    "    plt.yticks([0, 1])\n",
    "    plt.show()\n",
    "    # plt.savefig(\"KAR_\"+str(j)+\".pdf\", bbox_inches='tight')\n",
    "    # plt.close()\n",
    "    \n",
    "    plt.figure(figsize=(5, 4))\n",
    "    pl = plot(c)\n",
    "    v1 = np.linspace(c.array().min(), c.array().max(), 5)\n",
    "    cb = plt.colorbar(pl,fraction=0.046, pad=0.04, ticks=v1)\n",
    "    cb.ax.tick_params(labelsize='large')\n",
    "    cb.ax.set_yticklabels([\"{:2.1f}\".format(i) for i in v1])\n",
    "    plt.tight_layout()\n",
    "    plt.xticks([0, 1])\n",
    "    plt.yticks([0, 1])\n",
    "    plt.show()\n",
    "    # plt.savefig(\"AS_output_\"+output+str(j)+\".pdf\", bbox_inches='tight')\n",
    "    # plt.close()"
   ]
  },
  {
   "cell_type": "code",
   "execution_count": null,
   "metadata": {},
   "outputs": [],
   "source": []
  }
 ],
 "metadata": {
  "kernelspec": {
   "display_name": "athena",
   "language": "python",
   "name": "athena"
  },
  "language_info": {
   "codemirror_mode": {
    "name": "ipython",
    "version": 3
   },
   "file_extension": ".py",
   "mimetype": "text/x-python",
   "name": "python",
   "nbconvert_exporter": "python",
   "pygments_lexer": "ipython3",
   "version": "3.8.5"
  }
 },
 "nbformat": 4,
 "nbformat_minor": 4
}
